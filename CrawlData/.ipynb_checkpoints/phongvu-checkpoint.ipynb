{
 "cells": [
  {
   "cell_type": "code",
   "execution_count": 1,
   "metadata": {},
   "outputs": [],
   "source": [
    "from bs4 import BeautifulSoup\n",
    "import requests\n",
    "import json"
   ]
  },
  {
   "cell_type": "code",
   "execution_count": 2,
   "metadata": {},
   "outputs": [],
   "source": [
    "# Lấy Các link của từng sản phẩm của mục Laptop TIKI"
   ]
  },
  {
   "cell_type": "code",
   "execution_count": 3,
   "metadata": {},
   "outputs": [],
   "source": [
    "# url = \"https://phongvu.vn/laptop-va-linh-kien-macbook-715.cat?pv_source=homepage&pv_medium=de-megamenu-text&sort=new&order=DESC&page={}\"\n",
    "\n",
    "# # add header\n",
    "# headers = {\n",
    "#     'User-Agent': 'Mozilla/5.0 (Windows NT 6.3; Win64; x64) AppleWebKit/537.36 (KHTML, like Gecko) Chrome/54.0.2840.71 Safari/537.36'\n",
    "# }\n",
    "\n",
    "# page_number = 1\n",
    "# urls_product = []\n",
    "# while page_number <= 20:\n",
    "#     r = requests.get(url.format(page_number), headers=headers)\n",
    "#     soup = BeautifulSoup(r.content, \"lxml\")\n",
    "#     list_product_div = soup.findAll(\"a\", {\"class\": \"css-1rhapru\"})\n",
    "    \n",
    "#     for link in list_product_div:\n",
    "#         urls_product.append('https://phongvu.vn' + link.get(\"href\"))\n",
    "        \n",
    "#     page_number += 1\n",
    "\n",
    "# urls_product"
   ]
  },
  {
   "cell_type": "code",
   "execution_count": 4,
   "metadata": {},
   "outputs": [],
   "source": [
    "# len(urls_product)"
   ]
  },
  {
   "cell_type": "code",
   "execution_count": 5,
   "metadata": {},
   "outputs": [],
   "source": [
    "# with open('phongvu_links.txt', 'w') as f:\n",
    "#     for item in urls_product:\n",
    "#         f.write(\"%s\\n\" % item)"
   ]
  },
  {
   "cell_type": "code",
   "execution_count": 6,
   "metadata": {},
   "outputs": [],
   "source": [
    "#imports here\n",
    "from selenium import webdriver\n",
    "from selenium.webdriver.common.keys import Keys\n",
    "from selenium.webdriver.support import expected_conditions as EC\n",
    "from selenium.webdriver.common.by import By\n",
    "from selenium.webdriver.support.wait import WebDriverWait\n",
    "import time\n",
    "\n",
    "import pandas as pd\n"
   ]
  },
  {
   "cell_type": "code",
   "execution_count": 7,
   "metadata": {},
   "outputs": [],
   "source": [
    "#specify the path to chromedriver.exe (download and save on your computer)\n",
    "driver = webdriver.Chrome('/usr/bin/chromedriver')\n",
    "driver.implicitly_wait(10)\n",
    "wait = WebDriverWait(driver, 10)\n"
   ]
  },
  {
   "cell_type": "code",
   "execution_count": 8,
   "metadata": {},
   "outputs": [
    {
     "name": "stdout",
     "output_type": "stream",
     "text": [
      "1\n",
      "2\n",
      "3\n"
     ]
    },
    {
     "data": {
      "text/html": [
       "<div>\n",
       "<style scoped>\n",
       "    .dataframe tbody tr th:only-of-type {\n",
       "        vertical-align: middle;\n",
       "    }\n",
       "\n",
       "    .dataframe tbody tr th {\n",
       "        vertical-align: top;\n",
       "    }\n",
       "\n",
       "    .dataframe thead th {\n",
       "        text-align: right;\n",
       "    }\n",
       "</style>\n",
       "<table border=\"1\" class=\"dataframe\">\n",
       "  <thead>\n",
       "    <tr style=\"text-align: right;\">\n",
       "      <th></th>\n",
       "      <th>CPU</th>\n",
       "      <th>Chip đồ họa</th>\n",
       "      <th>RAM</th>\n",
       "      <th>Màn hình</th>\n",
       "      <th>Lưu trữ</th>\n",
       "      <th>Kích thước</th>\n",
       "      <th>Khối lượng</th>\n",
       "    </tr>\n",
       "  </thead>\n",
       "  <tbody>\n",
       "    <tr>\n",
       "      <th>0</th>\n",
       "      <td>Intel Core i7-1165G7 ( 4.7 GHz / 12MB / 4 nhân...</td>\n",
       "      <td>Intel Iris Xe Graphics</td>\n",
       "      <td>8GB Onboard DDR4 3200MHz Không nâng cấp được )</td>\n",
       "      <td>14\" ( 1920 x 1080 ) Full HD IPS không cảm ứn...</td>\n",
       "      <td>NaN</td>\n",
       "      <td>NaN</td>\n",
       "      <td>NaN</td>\n",
       "    </tr>\n",
       "    <tr>\n",
       "      <th>1</th>\n",
       "      <td>Intel Core i7-1165G7 ( 4.7 GHz / 12MB / 4 nhân...</td>\n",
       "      <td>NVIDIA GeForce MX450 2GB GDDR5 / Intel Iris Xe...</td>\n",
       "      <td>1 x 16GB DDR4 3200MHz ( 2 Khe cắm / Hỗ trợ tối...</td>\n",
       "      <td>NaN</td>\n",
       "      <td>NaN</td>\n",
       "      <td>NaN</td>\n",
       "      <td>NaN</td>\n",
       "    </tr>\n",
       "  </tbody>\n",
       "</table>\n",
       "</div>"
      ],
      "text/plain": [
       "                                                 CPU  \\\n",
       "0  Intel Core i7-1165G7 ( 4.7 GHz / 12MB / 4 nhân...   \n",
       "1  Intel Core i7-1165G7 ( 4.7 GHz / 12MB / 4 nhân...   \n",
       "\n",
       "                                       Chip đồ họa  \\\n",
       "0                             Intel Iris Xe Graphics   \n",
       "1  NVIDIA GeForce MX450 2GB GDDR5 / Intel Iris Xe...   \n",
       "\n",
       "                                                 RAM  \\\n",
       "0     8GB Onboard DDR4 3200MHz Không nâng cấp được )   \n",
       "1  1 x 16GB DDR4 3200MHz ( 2 Khe cắm / Hỗ trợ tối...   \n",
       "\n",
       "                                          Màn hình Lưu trữ Kích thước  \\\n",
       "0  14\" ( 1920 x 1080 ) Full HD IPS không cảm ứn...      NaN          NaN   \n",
       "1                                                NaN      NaN          NaN   \n",
       "\n",
       "  Khối lượng  \n",
       "0          NaN  \n",
       "1          NaN  "
      ]
     },
     "execution_count": 8,
     "metadata": {},
     "output_type": "execute_result"
    }
   ],
   "source": [
    "columns =['CPU', 'Chip đồ họa', 'RAM','Màn hình','Lưu trữ','Kích thước','Khối lượng']\n",
    "df = pd.DataFrame([], columns=columns)\n",
    "i = 1\n",
    "for url in  open('phongvu_links.txt', 'r'):\n",
    "    print(i)\n",
    "    driver.get(url)\n",
    "    driver.execute_script(\"window.scrollTo(0, document.body.scrollHeight);\")\n",
    "    time.sleep(5)#sleep_between_interactions\n",
    "    WebDriverWait(driver, 10).until(EC.element_to_be_clickable((By.CSS_SELECTOR, '.css-zy9ns2'))).click()\n",
    "    key = driver.find_elements_by_class_name(\"css-7j9rw7\")\n",
    "    if i == 3:\n",
    "        break\n",
    "    i += 1\n",
    "    _dict = dict()\n",
    "    \n",
    "    infos = driver.find_elements_by_class_name(\"css-7j9rw7\")     \n",
    "    for info in infos:\n",
    "        l = info.text.split('\\n')\n",
    "        if len(l) == 2:\n",
    "            if l[0] in columns:\n",
    "                _dict[l[0]] = l[1]\n",
    "        elif len(l) == 1:\n",
    "            if l[0] in columns:\n",
    "                _dict[l[0]] = ''\n",
    "                \n",
    "    df = df.append(_dict, ignore_index=True)\n",
    "        \n",
    "df\n",
    "        "
   ]
  },
  {
   "cell_type": "code",
   "execution_count": 13,
   "metadata": {},
   "outputs": [
    {
     "name": "stdout",
     "output_type": "stream",
     "text": [
      "Thương hiệu\n",
      "HP\n",
      "Bảo hành\n",
      "12\n",
      "Thông tin chung\n",
      "Màu sắc\n",
      "Bạc\n",
      "Series laptop\n",
      "ProBook\n",
      "Part-number\n",
      "2H0Y1PA\n",
      "Cấu hình chi tiết\n",
      "Thế hệ CPU\n",
      "Core i7 , Intel Core thế hệ thứ 11\n",
      "CPU\n",
      "Intel Core i7-1165G7 ( 4.7 GHz / 12MB / 4 nhân, 8 luồng )\n",
      "Chip đồ họa\n",
      "NVIDIA GeForce MX450 2GB GDDR5 / Intel Iris Xe Graphics\n",
      "RAM\n",
      "1 x 16GB DDR4 3200MHz ( 2 Khe cắm / Hỗ trợ tối đa 32GB )\n"
     ]
    }
   ],
   "source": [
    "driver.get('https://phongvu.vn/may-tinh-xach-tay-laptop-hp-probook-450-g8-2h0y1pa-i7-1165g7-bac-s201202411.html')\n",
    "# driver.execute_script(\"window.scrollTo(0, document.body.scrollHeight/2);\")\n",
    "# time.sleep(5)#sleep_between_interactions\n",
    "WebDriverWait(driver, 10).until(EC.element_to_be_clickable((By.CSS_SELECTOR, '.css-zy9ns2'))).click()\n",
    "driver.get('https://phongvu.vn/may-tinh-xach-tay-laptop-hp-probook-450-g8-2h0y1pa-i7-1165g7-bac-s201202411.html')\n",
    "# driver.execute_script(\"window.scrollTo(0, document.body.scrollHeight);\")\n",
    "key = driver.find_element_by_class_name(\"css-9cg3h6\")\n",
    "\n",
    "print(key.text)\n",
    "#     values.append(x[1])"
   ]
  },
  {
   "cell_type": "code",
   "execution_count": null,
   "metadata": {},
   "outputs": [],
   "source": [
    "for a in key:\n",
    "    print(a.text.split('\\n'))"
   ]
  },
  {
   "cell_type": "code",
   "execution_count": null,
   "metadata": {},
   "outputs": [],
   "source": [
    "x,y = ['1']"
   ]
  },
  {
   "cell_type": "code",
   "execution_count": null,
   "metadata": {},
   "outputs": [],
   "source": []
  }
 ],
 "metadata": {
  "kernelspec": {
   "display_name": "Python 3",
   "language": "python",
   "name": "python3"
  },
  "language_info": {
   "codemirror_mode": {
    "name": "ipython",
    "version": 3
   },
   "file_extension": ".py",
   "mimetype": "text/x-python",
   "name": "python",
   "nbconvert_exporter": "python",
   "pygments_lexer": "ipython3",
   "version": "3.8.5"
  }
 },
 "nbformat": 4,
 "nbformat_minor": 4
}
