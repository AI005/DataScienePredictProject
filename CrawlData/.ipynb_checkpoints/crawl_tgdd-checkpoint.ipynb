{
 "cells": [
  {
   "cell_type": "code",
   "execution_count": 1,
   "metadata": {},
   "outputs": [],
   "source": [
    "#imports here\n",
    "from selenium import webdriver\n",
    "from selenium.webdriver.common.keys import Keys\n",
    "from selenium.webdriver.support import expected_conditions as EC\n",
    "from selenium.webdriver.common.by import By\n",
    "from selenium.webdriver.support.wait import WebDriverWait\n",
    "import time\n",
    "\n",
    "import pandas as pd"
   ]
  },
  {
   "cell_type": "code",
   "execution_count": 2,
   "metadata": {},
   "outputs": [],
   "source": [
    "url = \"https://www.thegioididong.com/laptop\"\n",
    "\n",
    "#specify the path to chromedriver.exe (download and save on your computer)\n",
    "driver = webdriver.Chrome('/usr/bin/chromedriver')\n",
    "driver.implicitly_wait(10)\n",
    "# wait = WebDriverWait(driver, 10)\n",
    "\n",
    "#open the webpage\n",
    "driver.get(url)\n",
    "#Scroll to the end of the page\n",
    "while True:\n",
    "    driver.execute_script(\"window.scrollTo(0, document.body.scrollHeight);\")\n",
    "    time.sleep(5)#sleep_between_interactions\n",
    "    try:\n",
    "        view_more= WebDriverWait(driver, 10).until(EC.element_to_be_clickable((By.CSS_SELECTOR, '.viewmore'))).click()\n",
    "    except:\n",
    "        break\n",
    "        "
   ]
  },
  {
   "cell_type": "code",
   "execution_count": 9,
   "metadata": {},
   "outputs": [
    {
     "data": {
      "text/plain": [
       "['https://www.thegioididong.com/laptop/apple-macbook-air-mqd32sa-a-i5-5350u',\n",
       " 'https://www.thegioididong.com/laptop/acer-aspire-a515-53-5112-i5-8265u-4gb-16gb-1tb-win',\n",
       " 'https://www.thegioididong.com/laptop/acer-swift-sf315-52-38yq-i3-8130u-4gb-1tb-156f-win',\n",
       " 'https://www.thegioididong.com/laptop/hp-15s-du0042tx-i3-7020u-4gb-1tb-win10-6zf75pa',\n",
       " 'https://www.thegioididong.com/laptop/lenovo-ideapad-s340-14iil-i5-1035g1-8gb-512gb-win1',\n",
       " 'https://www.thegioididong.com/laptop/lenovo-thinkbook-15iil-i3-20sm00d9vn',\n",
       " 'https://www.thegioididong.com/laptop/lenovo-ideapad-s145-81w8001xvn',\n",
       " 'https://www.thegioididong.com/laptop/asus-530f-i3-8145u-4gb-1tb-bq185t',\n",
       " 'https://www.thegioididong.com/laptop/dell-vostro-5581-i5-8265u-4gb-1tb-office365-win10',\n",
       " 'https://www.thegioididong.com/laptop/dell-vos15-5581-i5-8265-4gb-1tb-mx130-office-vrf6',\n",
       " 'https://www.thegioididong.com/laptop/lenovo-ideapad-3-15iil05-i3-81we003rvn',\n",
       " 'https://www.thegioididong.com/laptop/hp-15s-fq1111tu-i3-193r0pa',\n",
       " 'https://www.thegioididong.com/laptop/hp-348-g7-i3-9pg83pa',\n",
       " 'https://www.thegioididong.com/laptop/asus-vivobook-x509ja-i3-ej480t',\n",
       " 'https://www.thegioididong.com/laptop/acer-aspire-3-a315-nx-heesv-00d',\n",
       " 'https://www.thegioididong.com/laptop/asus-vivobook-x409ja-i5-ek052t',\n",
       " 'https://www.thegioididong.com/laptop/apple-macbook-air-mqd32sa-a-i5-5350u',\n",
       " 'https://www.thegioididong.com/laptop/asus-vivobook-a515ea-i3-bq497t',\n",
       " 'https://www.thegioididong.com/laptop/hp-15s-du1103tu-i5-2w7j7pa',\n",
       " 'https://www.thegioididong.com/laptop/asus-x409ja-i3-ek015t',\n",
       " 'https://www.thegioididong.com/laptop/asus-vivobook-a415ea-i3-eb317t',\n",
       " 'https://www.thegioididong.com/laptop/hp-348-g7-i3-1a0z1pa',\n",
       " 'https://www.thegioididong.com/laptop/asus-vivobook-a415ea-i5-eb355t',\n",
       " 'https://www.thegioididong.com/laptop/hp-15s-du2050tx-i3-1m8w2pa',\n",
       " 'https://www.thegioididong.com/laptop/dell-vostro-3590-i7-grmgk2',\n",
       " 'https://www.thegioididong.com/laptop/hp-pavilion-x360-dw0060tu-i3-195m8pa',\n",
       " 'https://www.thegioididong.com/laptop/lenovo-ideapad-s145-15iil-i5-1035g1-8gb-512gb-win1',\n",
       " 'https://www.thegioididong.com/laptop/asus-vivobook-x509jp-i5-ej023t',\n",
       " 'https://www.thegioididong.com/laptop/dell-inspiron-5593-i5-1035g1-8gb-256gb-2gb-mx230-w',\n",
       " 'https://www.thegioididong.com/laptop/asus-vivobook-a415ea-i5-eb354t',\n",
       " 'https://www.thegioididong.com/laptop/acer-aspire-a515-53-5112-i5-8265u-4gb-16gb-1tb-win',\n",
       " 'https://www.thegioididong.com/laptop/asus-vivobook-x515ma-n5030-ej120t',\n",
       " 'https://www.thegioididong.com/laptop/lenovo-thinkbook-14-iil-i5-20sl00mfvn',\n",
       " 'https://www.thegioididong.com/laptop/asus-vivobook-x509ma-n5030-ej256t',\n",
       " 'https://www.thegioididong.com/laptop/lenovo-thinkbook-15iil-i3-20sm00d9vn',\n",
       " 'https://www.thegioididong.com/laptop/asus-vivobook-a415ea-i3-eb353t',\n",
       " 'https://www.thegioididong.com/laptop/lenovo-ideapad-s340-14iil-i5-1035g1-8gb-512gb-win1',\n",
       " 'https://www.thegioididong.com/laptop/dell-vostro-5502-i5-70231340',\n",
       " 'https://www.thegioididong.com/laptop/dell-vostro-5581-i5-8265u-4gb-1tb-office365-win10',\n",
       " 'https://www.thegioididong.com/laptop/dell-vostro-3491-i3-70223127',\n",
       " 'https://www.thegioididong.com/laptop/dell-inspiron-5593-i5-7wgnv1',\n",
       " 'https://www.thegioididong.com/laptop/lenovo-ideapad-s145-81w8001xvn',\n",
       " 'https://www.thegioididong.com/laptop/acer-aspire-3-a315-56-i5-nxhs5sv00b',\n",
       " 'https://www.thegioididong.com/laptop/lenovo-ideapad-s340-14iil-i3-1005g1-8gb-512gb-win1',\n",
       " 'https://www.thegioididong.com/laptop/lenovo-ideapad-slim-5-15itl05-i5-82fg001pvn',\n",
       " 'https://www.thegioididong.com/laptop/dell-vostro-5402-i5-v4i5003w',\n",
       " 'https://www.thegioididong.com/laptop/dell-vos15-5581-i5-8265-4gb-1tb-mx130-office-vrf6',\n",
       " 'https://www.thegioididong.com/laptop/asus-vivobook-x509ja-i7-ej232ts',\n",
       " 'https://www.thegioididong.com/laptop/asus-gaming-rog-strix-g512-i5-ial031t',\n",
       " 'https://www.thegioididong.com/laptop/asus-vivobook-a412fa-i3-ek1175t',\n",
       " 'https://www.thegioididong.com/laptop/hp-pavilion-15-cs3010tu-i3-8qn78pa',\n",
       " 'https://www.thegioididong.com/laptop/acer-aspire-a315-56-308n-i3-nxhs5sv00c',\n",
       " 'https://www.thegioididong.com/laptop/hp-envy-13-ba1027tu-i5-2k0b1pa',\n",
       " 'https://www.thegioididong.com/laptop/asus-zenbook-ux425ea-i5-bm069t',\n",
       " 'https://www.thegioididong.com/laptop/apple-macbook-pro-2020-m1-myd82saa',\n",
       " 'https://www.thegioididong.com/laptop/lenovo-ideapad-5-14iil05-i5-81yh0050vn',\n",
       " 'https://www.thegioididong.com/laptop/asus-vivobook-x509m-n5000-ej255t',\n",
       " 'https://www.thegioididong.com/laptop/acer-nitro-5-an515-55-5206-i5-nhq7nsv007',\n",
       " 'https://www.thegioididong.com/laptop/asus-vivobook-a412fa-i3-ek1179t',\n",
       " 'https://www.thegioididong.com/laptop/hp-envy-13-ba1028tu-i5-2k0b2pa',\n",
       " 'https://www.thegioididong.com/laptop/acer-swift-sf315-52-38yq-i3-8130u-4gb-1tb-156f-win',\n",
       " 'https://www.thegioididong.com/laptop/acer-aspire-a514-53g-513j-i5-nxhywsv001',\n",
       " 'https://www.thegioididong.com/laptop/asus-vivobook-a412fa-i5-ek738t',\n",
       " 'https://www.thegioididong.com/laptop/lenovo-ideapad-3-14iil05-i7-81wd0040vn',\n",
       " 'https://www.thegioididong.com/laptop/acer-aspire-3-a315-56-i3-nxhs5sv008',\n",
       " 'https://www.thegioididong.com/laptop/acer-aspire-a515-55hg-i5-nxhsmsv004',\n",
       " 'https://www.thegioididong.com/laptop/hp-340s-g7-i3-224l1pa',\n",
       " 'https://www.thegioididong.com/laptop/asus-vivobook-a412f-i510210u-8gb-32gb-512gb-win10',\n",
       " 'https://www.thegioididong.com/laptop/lenovo-thinkbook-14iml-i3-20rv00b7vn',\n",
       " 'https://www.thegioididong.com/laptop/asus-s530fn-i5-8265u-4gb-1tb-mx150-win10-bq128',\n",
       " 'https://www.thegioididong.com/laptop/hp-15s-du1056tu-6405u-1w7r5pa',\n",
       " 'https://www.thegioididong.com/laptop/apple-macbook-air-2020-mgnd3saa',\n",
       " 'https://www.thegioididong.com/laptop/hp-348-g7-i5-9ph06pa',\n",
       " 'https://www.thegioididong.com/laptop/lenovo-ideapad-3-15iil05-i5-81we003qvn',\n",
       " 'https://www.thegioididong.com/laptop/lenovo-ideapad-flex-5-14iil-i5-81x1001uvn',\n",
       " 'https://www.thegioididong.com/laptop/asus-gaming-rog-strix-g512-i7-ial001t',\n",
       " 'https://www.thegioididong.com/laptop/lenovo-ideapad-5-15iil05-i3-81yk004tvn',\n",
       " 'https://www.thegioididong.com/laptop/apple-macbook-pro-2020-myd92saa',\n",
       " 'https://www.thegioididong.com/laptop/asus-vivobook-a512fa-i5-ej1734t',\n",
       " 'https://www.thegioididong.com/laptop/apple-macbook-air-2020-i3-mwtj2saa',\n",
       " 'https://www.thegioididong.com/laptop/asus-vivobook-a512fl-i5-10210u-8gb-512gb-2gb-mx250',\n",
       " 'https://www.thegioididong.com/laptop/lenovo-ideapad-c340-14iml-i5-81tk007rvn',\n",
       " 'https://www.thegioididong.com/laptop/hp-envy-13-ba1030tu-i7-2k0b6pa',\n",
       " 'https://www.thegioididong.com/laptop/huawei-matebook-d-15-r5-bohwaq9r',\n",
       " 'https://www.thegioididong.com/laptop/lenovo-ideapad-5-15iil05-i5-81yk004uvn',\n",
       " 'https://www.thegioididong.com/laptop/huawei-matebook-d15-r5-3500u',\n",
       " 'https://www.thegioididong.com/laptop/dell-vostro-5402-i7-70231338',\n",
       " 'https://www.thegioididong.com/laptop/dell-vostro-3401-i3-70227392',\n",
       " 'https://www.thegioididong.com/laptop/acer-swift-sf314-54-51ql-nxgxzsv001',\n",
       " 'https://www.thegioididong.com/laptop/lenovo-gaming-15imh05-i7-81y40068vn',\n",
       " 'https://www.thegioididong.com/laptop/hp-15s-fq2028tu-i5-2q5y5pa',\n",
       " 'https://www.thegioididong.com/laptop/acer-sf315-51-54h0-i5-8250u-4gb-1tb-win10',\n",
       " 'https://www.thegioididong.com/laptop/hp-envy-13-ba0046tu-i5-171m7pa',\n",
       " 'https://www.thegioididong.com/laptop/hp-15s-du0042tx-i3-7020u-4gb-1tb-win10-6zf75pa',\n",
       " 'https://www.thegioididong.com/laptop/asus-530f-i3-8145u-4gb-1tb-bq185t',\n",
       " 'https://www.thegioididong.com/laptop/hp-envy-13-ba0047tu-i7-171m8pa',\n",
       " 'https://www.thegioididong.com/laptop/apple-macbook-air-2020-i3',\n",
       " 'https://www.thegioididong.com/laptop/acer-aspire-a514-53-5921-i5-nxhupsv001',\n",
       " 'https://www.thegioididong.com/laptop/hp-pavilon-14-ce2035tu-i3-6yz18pa',\n",
       " 'https://www.thegioididong.com/laptop/lenovo-yoga-duet-7-13iml05-i7-82as007cvn',\n",
       " 'https://www.thegioididong.com/laptop/asus-x441ma-ga024t',\n",
       " 'https://www.thegioididong.com/laptop/acer-aspire-5-a514-54-33wy-i3-nxa23sv00j',\n",
       " 'https://www.thegioididong.com/laptop/lenovo-ideapad-flex-5-14iil05-i3-81x1001tvn',\n",
       " 'https://www.thegioididong.com/laptop/acer-aspire-a315-56-34ay-i3-nxhs5sv007',\n",
       " 'https://www.thegioididong.com/laptop/acer-nitro-5-a515-55-72r2-i7-nhq7nsv005',\n",
       " 'https://www.thegioididong.com/laptop/lenovo-yoga-slim-7-14iil05-i5-82a1007uvn',\n",
       " 'https://www.thegioididong.com/laptop/hp-15s-fq2045tu-i7-31d93pa',\n",
       " 'https://www.thegioididong.com/laptop/acer-swift-3s-sf314-57g-53t1-i5-1035g1-8gb-512gb-2',\n",
       " 'https://www.thegioididong.com/laptop/msi-gaming-leopard-10sdr-gl65-i7-242vn',\n",
       " 'https://www.thegioididong.com/laptop/lenovo-thinkbook-14iil-i7-20sl00mevn',\n",
       " 'https://www.thegioididong.com/laptop/acer-swift-3-sf314-nx-hjfsv-001',\n",
       " 'https://www.thegioididong.com/laptop/dell-inspiron-5406-i5-70232602',\n",
       " 'https://www.thegioididong.com/laptop/hp-envy-13-i7-8xs68pa',\n",
       " 'https://www.thegioididong.com/laptop/acer-swift-sf314-56-38ue-i3-8145u-4gb-256gb-win10',\n",
       " 'https://www.thegioididong.com/laptop/lenovo-ideapad-s145-15iwl-i7-8565u-8gb-512gb-mx110',\n",
       " 'https://www.thegioididong.com/laptop/asus-x507uf-ej074t',\n",
       " 'https://www.thegioididong.com/laptop/lenovo-ideapad-c340-14iml-i3-10110u-8gb-512gb-touc',\n",
       " 'https://www.thegioididong.com/laptop/asus-s430fa-i5-8265u-4gb-1tb-14f-win10-eb075t-xa',\n",
       " 'https://www.thegioididong.com/laptop/hp-pavilion-15-cs3014tu-i5-8qp20pa',\n",
       " 'https://www.thegioididong.com/laptop/lenovo-legion-5-15imh05-i7-82au0051vn',\n",
       " 'https://www.thegioididong.com/laptop/acer-swift-sf5-i5-8265u-8gb-256gb-win10',\n",
       " 'https://www.thegioididong.com/laptop/lenovo-ideapad-c340-14iwl-i3-8145u-8gb-256gb-touch',\n",
       " 'https://www.thegioididong.com/laptop/lenovo-yoga-slim-7-14iil05-i7-82a100fkvn',\n",
       " 'https://www.thegioididong.com/laptop/dell-inspiron-5584-i5-8265u-8gb-2tb-2gb-mx130-156f',\n",
       " 'https://www.thegioididong.com/laptop/asus-x407uf-bv022t',\n",
       " 'https://www.thegioididong.com/laptop/acer-swift-sf314-56-596e-i5-8265u-4gb-256gb-win10',\n",
       " 'https://www.thegioididong.com/laptop/apple-macbook-air-2020-m1-mgn73saa',\n",
       " 'https://www.thegioididong.com/laptop/asus-x507ub-br354t',\n",
       " 'https://www.thegioididong.com/laptop/hp-pavilion-15-cs2057tx-i5-8265u-4gb-1tb-mx130-win',\n",
       " 'https://www.thegioididong.com/laptop/asus-vivobook-s412f-i3-8145u-4gb-512gb-ek342t',\n",
       " 'https://www.thegioididong.com/laptop/dell-inspiron-3580-i7-8565u-8gb-256gb-amd-520-win1',\n",
       " 'https://www.thegioididong.com/laptop/lenovo-ideapad-330-15ikb-i5-8250u-4gb-1tb-win10-8',\n",
       " 'https://www.thegioididong.com/laptop/lenovo-ideapad-s340-i5-81vw00a8vn',\n",
       " 'https://www.thegioididong.com/laptop/dell-xps-13-9310-i5-70234076',\n",
       " 'https://www.thegioididong.com/laptop/acer-swift-sf315-52g-87n4-i7-8550u-8gb-128gb-2gb-m',\n",
       " 'https://www.thegioididong.com/laptop/lenovo-yoga-duet-7-13iml05-i5-82as007bvn',\n",
       " 'https://www.thegioididong.com/laptop/lenovo-ideapad-s340-15iil-i3-1005g1-8gb-512gb-win1',\n",
       " 'https://www.thegioididong.com/laptop/acer-aspire-e5-576g-88ep-nxgwnsv001',\n",
       " 'https://www.thegioididong.com/laptop/dell-vostro-13-5370-i5-7m6d51',\n",
       " 'https://www.thegioididong.com/laptop/acer-aspire-a315-54-558r-i5-8265u-4gb-1tb-win10-n',\n",
       " 'https://www.thegioididong.com/laptop/acer-nitro-an515-55-70ax-i7-nhq7nsv001',\n",
       " 'https://www.thegioididong.com/laptop/dell-inspiron-5502-i5-n5i5310w',\n",
       " 'https://www.thegioididong.com/laptop/lg-gram-14-i5-14z90n-var52a5',\n",
       " 'https://www.thegioididong.com/laptop/acer-a514-51-58zj-14hd-8265-4gb-1tb-16gb-win10-sil',\n",
       " 'https://www.thegioididong.com/laptop/dell-g5-15-5500-i7-70228123',\n",
       " 'https://www.thegioididong.com/laptop/acer-swift-sf5-i7-8565u-8gb-256gb-win10',\n",
       " 'https://www.thegioididong.com/laptop/lenovo-yoga-s730-13iwl-i5-8265u-8gb-512gb-win10-8',\n",
       " 'https://www.thegioididong.com/laptop/lenovo-ideapad-c340-14iwl-i5-8265u-8gb-256gb-touch',\n",
       " 'https://www.thegioididong.com/laptop/acer-aspire-5-a514-54-3204-i3-nxa23sv009',\n",
       " 'https://www.thegioididong.com/laptop/lg-gram-15-i5-15z90n-var55a5',\n",
       " 'https://www.thegioididong.com/laptop/lg-gram-17-i7-17z90n-vah75a5',\n",
       " 'https://www.thegioididong.com/laptop/hp-pavilion-15-cs2056tx-i5-8265u-4gb-1tb-2gb-mx130',\n",
       " 'https://www.thegioididong.com/laptop/acer-a514-51-37zd-14hd-8145-4gb-500gb-win10-silver',\n",
       " 'https://www.thegioididong.com/laptop/hp-pavilion-15-cs2031tu-i3-8145u-4gb-1tb-156-win10',\n",
       " 'https://www.thegioididong.com/laptop/dell-inspiron-5584-i5-8265u-8gb-1tb-156f-win10-cx',\n",
       " 'https://www.thegioididong.com/laptop/acer-sp513-52n-556v-133fhd-8250u-8gb-256gb-win10hs',\n",
       " 'https://www.thegioididong.com/laptop/acer-swift-sf315-i5-nxgzcsv001',\n",
       " 'https://www.thegioididong.com/laptop/lenovo-thinkbook-14iml-i7-20rv00bjvn',\n",
       " 'https://www.thegioididong.com/laptop/hp-15-da1033tx-i7-8565u-4gb-1tb-mx130-5nk26pa',\n",
       " 'https://www.thegioididong.com/laptop/dell-inspiron-7306-i5-n3i5202w',\n",
       " 'https://www.thegioididong.com/laptop/dell-xps-13-9310-i5-70231343',\n",
       " 'https://www.thegioididong.com/laptop/lenovo-ideapad-530s-14ikb-i7-8550u-8gb-256gb-win10',\n",
       " 'https://www.thegioididong.com/laptop/acer-aspire-a315-55g-78q1-i7-nxhedsv003',\n",
       " 'https://www.thegioididong.com/laptop/dell-g5-15-5500-i7-70225485',\n",
       " 'https://www.thegioididong.com/laptop/asus-vivobook-flip-14-tm420ia-r3-ec155t']"
      ]
     },
     "execution_count": 9,
     "metadata": {},
     "output_type": "execute_result"
    }
   ],
   "source": [
    "list_div_product = driver.find_elements_by_class_name(\"item\")\n",
    "urls = []\n",
    "for div_product in list_div_product:\n",
    "#     a = div_product.find_element_by_xpath('//*[contains(concat( \" \", @class, \" \" ), concat( \" \", \"vertion2020\", \" \" ))]')\n",
    "    url = div_product.find_element_by_tag_name(\"a\").get_attribute('href')\n",
    "    urls.append(url)\n",
    "\n",
    "urls"
   ]
  },
  {
   "cell_type": "code",
   "execution_count": 4,
   "metadata": {},
   "outputs": [],
   "source": [
    "list_div_product[1].get_attribute(\"href\")"
   ]
  },
  {
   "cell_type": "code",
   "execution_count": 10,
   "metadata": {},
   "outputs": [
    {
     "data": {
      "text/plain": [
       "165"
      ]
     },
     "execution_count": 10,
     "metadata": {},
     "output_type": "execute_result"
    }
   ],
   "source": [
    "len(list_div_product)"
   ]
  },
  {
   "cell_type": "code",
   "execution_count": 11,
   "metadata": {},
   "outputs": [
    {
     "data": {
      "text/plain": [
       "165"
      ]
     },
     "execution_count": 11,
     "metadata": {},
     "output_type": "execute_result"
    }
   ],
   "source": [
    "len(urls)"
   ]
  },
  {
   "cell_type": "code",
   "execution_count": 22,
   "metadata": {},
   "outputs": [],
   "source": [
    "columns =['CPU','RAM','Ổ cứng','Màn hình','Card màn hình','Cổng kết nối','Hệ điều hành','Thiết kế','Kích thước','Thời điểm ra mắt']\n",
    "df = pd.DataFrame([], columns=columns)\n",
    "for url in urls:\n",
    "    _dict = dict()\n",
    "    driver.get(url)\n",
    "    infos = driver.find_element_by_class_name(\"parameter \").text.split('\\n')\n",
    "    for info in infos:\n",
    "        key = info[0:info.find(\":\")]\n",
    "        value = info.replace(key + \": \", \"\")\n",
    "        \n",
    "        if key == \"Card màn hình\":\n",
    "            value = ''.join(value.split(',')[1:]).strip()\n",
    "            \n",
    "        _dict[key] = value\n",
    "    \n",
    "    df = df.append(_dict, ignore_index=True)"
   ]
  },
  {
   "cell_type": "code",
   "execution_count": 25,
   "metadata": {},
   "outputs": [],
   "source": [
    "df.to_csv('tgdđdata_full.csv')"
   ]
  },
  {
   "cell_type": "code",
   "execution_count": null,
   "metadata": {},
   "outputs": [],
   "source": []
  }
 ],
 "metadata": {
  "kernelspec": {
   "display_name": "Python 3",
   "language": "python",
   "name": "python3"
  },
  "language_info": {
   "codemirror_mode": {
    "name": "ipython",
    "version": 3
   },
   "file_extension": ".py",
   "mimetype": "text/x-python",
   "name": "python",
   "nbconvert_exporter": "python",
   "pygments_lexer": "ipython3",
   "version": "3.8.5"
  }
 },
 "nbformat": 4,
 "nbformat_minor": 4
}
