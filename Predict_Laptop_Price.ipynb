{
 "cells": [
  {
   "cell_type": "code",
   "execution_count": 1,
   "metadata": {},
   "outputs": [],
   "source": [
    "%matplotlib inline\n",
    "import matplotlib.pyplot as plt\n",
    "import seaborn as sns # seaborn là thư viện được xây trên matplotlib, giúp việc visualization đỡ khổ hơn\n",
    "import pandas as pd\n",
    "import numpy as np\n",
    "\n",
    "from sklearn.model_selection import train_test_split\n",
    "from sklearn.preprocessing import OneHotEncoder, StandardScaler\n",
    "from sklearn.impute import SimpleImputer\n",
    "from sklearn.base import BaseEstimator, TransformerMixin\n",
    "from sklearn.pipeline import Pipeline, make_pipeline\n",
    "from sklearn.compose import ColumnTransformer, make_column_transformer\n",
    "from sklearn.neural_network import MLPClassifier\n",
    "from sklearn.linear_model import LinearRegression\n",
    "from sklearn.linear_model import LogisticRegression\n",
    "from sklearn.ensemble import RandomForestRegressor\n",
    "from sklearn.metrics import mean_absolute_error\n",
    "from sklearn.linear_model import SGDRegressor\n",
    "from sklearn.neighbors import KNeighborsRegressor\n",
    "from sklearn.tree import DecisionTreeRegressor\n",
    "\n",
    "from sklearn import set_config\n",
    "set_config(display='diagram') # Để trực quan hóa pipeline\n",
    "\n"
   ]
  },
  {
   "cell_type": "code",
   "execution_count": 2,
   "metadata": {},
   "outputs": [
    {
     "data": {
      "text/html": [
       "<div>\n",
       "<style scoped>\n",
       "    .dataframe tbody tr th:only-of-type {\n",
       "        vertical-align: middle;\n",
       "    }\n",
       "\n",
       "    .dataframe tbody tr th {\n",
       "        vertical-align: top;\n",
       "    }\n",
       "\n",
       "    .dataframe thead th {\n",
       "        text-align: right;\n",
       "    }\n",
       "</style>\n",
       "<table border=\"1\" class=\"dataframe\">\n",
       "  <thead>\n",
       "    <tr style=\"text-align: right;\">\n",
       "      <th></th>\n",
       "      <th>Company</th>\n",
       "      <th>CPU</th>\n",
       "      <th>RAM</th>\n",
       "      <th>Bus</th>\n",
       "      <th>SSD</th>\n",
       "      <th>HDD</th>\n",
       "      <th>GPU_name</th>\n",
       "      <th>GPU_ram</th>\n",
       "      <th>Screen</th>\n",
       "      <th>Độ phân giải</th>\n",
       "      <th>Weight</th>\n",
       "      <th>Price</th>\n",
       "    </tr>\n",
       "  </thead>\n",
       "  <tbody>\n",
       "    <tr>\n",
       "      <th>0</th>\n",
       "      <td>Asus</td>\n",
       "      <td>Intel Core i5-10300H</td>\n",
       "      <td>8 GB</td>\n",
       "      <td>2933 MHz</td>\n",
       "      <td>512.0</td>\n",
       "      <td>0.0</td>\n",
       "      <td>NVIDIA GeForce GTX 1650Ti</td>\n",
       "      <td>4</td>\n",
       "      <td>15.6</td>\n",
       "      <td>1920 x 1080</td>\n",
       "      <td>2.30</td>\n",
       "      <td>22290000.0</td>\n",
       "    </tr>\n",
       "    <tr>\n",
       "      <th>1</th>\n",
       "      <td>Asus</td>\n",
       "      <td>AMD Ryzen 7-3750H</td>\n",
       "      <td>8 GB</td>\n",
       "      <td>2400 MHz</td>\n",
       "      <td>512.0</td>\n",
       "      <td>0.0</td>\n",
       "      <td>NVIDIA GeForce GTX 1650</td>\n",
       "      <td>4</td>\n",
       "      <td>15.6</td>\n",
       "      <td>1920 x 1080</td>\n",
       "      <td>2.20</td>\n",
       "      <td>19090000.0</td>\n",
       "    </tr>\n",
       "    <tr>\n",
       "      <th>2</th>\n",
       "      <td>Acer</td>\n",
       "      <td>AMD Ryzen 7-3750H</td>\n",
       "      <td>8 GB</td>\n",
       "      <td>2666 MHz</td>\n",
       "      <td>512.0</td>\n",
       "      <td>0.0</td>\n",
       "      <td>NVIDIA GeForce GTX 1650Ti</td>\n",
       "      <td>4</td>\n",
       "      <td>15.6</td>\n",
       "      <td>1920 x 1080</td>\n",
       "      <td>2.10</td>\n",
       "      <td>19790000.0</td>\n",
       "    </tr>\n",
       "    <tr>\n",
       "      <th>3</th>\n",
       "      <td>MSI</td>\n",
       "      <td>AMD Ryzen 5-4600H</td>\n",
       "      <td>8 GB</td>\n",
       "      <td>3200 MHz</td>\n",
       "      <td>512.0</td>\n",
       "      <td>0.0</td>\n",
       "      <td>AMD Radeon RX 5300M</td>\n",
       "      <td>3</td>\n",
       "      <td>15.6</td>\n",
       "      <td>1920 x 1080</td>\n",
       "      <td>1.96</td>\n",
       "      <td>19490000.0</td>\n",
       "    </tr>\n",
       "    <tr>\n",
       "      <th>4</th>\n",
       "      <td>Acer</td>\n",
       "      <td>AMD Ryzen 5-3550H</td>\n",
       "      <td>8 GB</td>\n",
       "      <td>2666 MHz</td>\n",
       "      <td>512.0</td>\n",
       "      <td>0.0</td>\n",
       "      <td>NVIDIA GeForce GTX 1650Ti</td>\n",
       "      <td>4</td>\n",
       "      <td>15.6</td>\n",
       "      <td>1920 x 1080</td>\n",
       "      <td>2.10</td>\n",
       "      <td>18790000.0</td>\n",
       "    </tr>\n",
       "  </tbody>\n",
       "</table>\n",
       "</div>"
      ],
      "text/plain": [
       "  Company                   CPU   RAM       Bus    SSD  HDD  \\\n",
       "0    Asus  Intel Core i5-10300H  8 GB  2933 MHz  512.0  0.0   \n",
       "1    Asus     AMD Ryzen 7-3750H  8 GB  2400 MHz  512.0  0.0   \n",
       "2    Acer     AMD Ryzen 7-3750H  8 GB  2666 MHz  512.0  0.0   \n",
       "3     MSI     AMD Ryzen 5-4600H  8 GB  3200 MHz  512.0  0.0   \n",
       "4    Acer     AMD Ryzen 5-3550H  8 GB  2666 MHz  512.0  0.0   \n",
       "\n",
       "                    GPU_name  GPU_ram  Screen  Độ phân giải  Weight  \\\n",
       "0  NVIDIA GeForce GTX 1650Ti        4    15.6   1920 x 1080    2.30   \n",
       "1    NVIDIA GeForce GTX 1650        4    15.6   1920 x 1080    2.20   \n",
       "2  NVIDIA GeForce GTX 1650Ti        4    15.6   1920 x 1080    2.10   \n",
       "3        AMD Radeon RX 5300M        3    15.6   1920 x 1080    1.96   \n",
       "4  NVIDIA GeForce GTX 1650Ti        4    15.6   1920 x 1080    2.10   \n",
       "\n",
       "        Price  \n",
       "0  22290000.0  \n",
       "1  19090000.0  \n",
       "2  19790000.0  \n",
       "3  19490000.0  \n",
       "4  18790000.0  "
      ]
     },
     "execution_count": 2,
     "metadata": {},
     "output_type": "execute_result"
    }
   ],
   "source": [
    "df_1 = pd.read_csv('CrawlData/fix_data_fpt.csv')\n",
    "df_1.head()"
   ]
  },
  {
   "cell_type": "code",
   "execution_count": 3,
   "metadata": {
    "scrolled": true
   },
   "outputs": [
    {
     "data": {
      "text/html": [
       "<div>\n",
       "<style scoped>\n",
       "    .dataframe tbody tr th:only-of-type {\n",
       "        vertical-align: middle;\n",
       "    }\n",
       "\n",
       "    .dataframe tbody tr th {\n",
       "        vertical-align: top;\n",
       "    }\n",
       "\n",
       "    .dataframe thead th {\n",
       "        text-align: right;\n",
       "    }\n",
       "</style>\n",
       "<table border=\"1\" class=\"dataframe\">\n",
       "  <thead>\n",
       "    <tr style=\"text-align: right;\">\n",
       "      <th></th>\n",
       "      <th>Company</th>\n",
       "      <th>CPU</th>\n",
       "      <th>RAM</th>\n",
       "      <th>Bus</th>\n",
       "      <th>SSD</th>\n",
       "      <th>HDD</th>\n",
       "      <th>GPU_name</th>\n",
       "      <th>GPU_ram</th>\n",
       "      <th>Screen</th>\n",
       "      <th>Độ phân giải</th>\n",
       "      <th>Weight</th>\n",
       "      <th>Price</th>\n",
       "    </tr>\n",
       "    <tr>\n",
       "      <th>STT</th>\n",
       "      <th></th>\n",
       "      <th></th>\n",
       "      <th></th>\n",
       "      <th></th>\n",
       "      <th></th>\n",
       "      <th></th>\n",
       "      <th></th>\n",
       "      <th></th>\n",
       "      <th></th>\n",
       "      <th></th>\n",
       "      <th></th>\n",
       "      <th></th>\n",
       "    </tr>\n",
       "  </thead>\n",
       "  <tbody>\n",
       "    <tr>\n",
       "      <th>0</th>\n",
       "      <td>Lenovo</td>\n",
       "      <td>Intel Core i3-1005G1</td>\n",
       "      <td>4 GB</td>\n",
       "      <td>2666 MHz</td>\n",
       "      <td>512</td>\n",
       "      <td>0.0</td>\n",
       "      <td>On board</td>\n",
       "      <td>0</td>\n",
       "      <td>15.6</td>\n",
       "      <td>1920 x 1080</td>\n",
       "      <td>1.80</td>\n",
       "      <td>11690000.0</td>\n",
       "    </tr>\n",
       "    <tr>\n",
       "      <th>1</th>\n",
       "      <td>Lenovo</td>\n",
       "      <td>Intel Core i5-1035G1</td>\n",
       "      <td>8 GB</td>\n",
       "      <td>2666 MHz</td>\n",
       "      <td>512</td>\n",
       "      <td>0.0</td>\n",
       "      <td>On board</td>\n",
       "      <td>0</td>\n",
       "      <td>14.0</td>\n",
       "      <td>1920 x 1080</td>\n",
       "      <td>1.60</td>\n",
       "      <td>14390000.0</td>\n",
       "    </tr>\n",
       "    <tr>\n",
       "      <th>2</th>\n",
       "      <td>Lenovo</td>\n",
       "      <td>Intel Core i5-1135G7</td>\n",
       "      <td>8 GB</td>\n",
       "      <td>3200 MHz</td>\n",
       "      <td>512</td>\n",
       "      <td>0.0</td>\n",
       "      <td>On board</td>\n",
       "      <td>0</td>\n",
       "      <td>15.6</td>\n",
       "      <td>1920 x 1080</td>\n",
       "      <td>1.66</td>\n",
       "      <td>17490000.0</td>\n",
       "    </tr>\n",
       "    <tr>\n",
       "      <th>3</th>\n",
       "      <td>Acer</td>\n",
       "      <td>Intel Core i3-8130U</td>\n",
       "      <td>4 GB</td>\n",
       "      <td>2400 MHz</td>\n",
       "      <td>256</td>\n",
       "      <td>0.0</td>\n",
       "      <td>On board</td>\n",
       "      <td>0</td>\n",
       "      <td>15.6</td>\n",
       "      <td>1920 x 1080</td>\n",
       "      <td>1.70</td>\n",
       "      <td>10790000.0</td>\n",
       "    </tr>\n",
       "    <tr>\n",
       "      <th>4</th>\n",
       "      <td>Acer</td>\n",
       "      <td>Intel Core i5-1035G1</td>\n",
       "      <td>8 GB</td>\n",
       "      <td>2400 MHz</td>\n",
       "      <td>512</td>\n",
       "      <td>0.0</td>\n",
       "      <td>On board</td>\n",
       "      <td>0</td>\n",
       "      <td>15.6</td>\n",
       "      <td>1920 x 1080</td>\n",
       "      <td>1.70</td>\n",
       "      <td>15190000.0</td>\n",
       "    </tr>\n",
       "    <tr>\n",
       "      <th>...</th>\n",
       "      <td>...</td>\n",
       "      <td>...</td>\n",
       "      <td>...</td>\n",
       "      <td>...</td>\n",
       "      <td>...</td>\n",
       "      <td>...</td>\n",
       "      <td>...</td>\n",
       "      <td>...</td>\n",
       "      <td>...</td>\n",
       "      <td>...</td>\n",
       "      <td>...</td>\n",
       "      <td>...</td>\n",
       "    </tr>\n",
       "    <tr>\n",
       "      <th>159</th>\n",
       "      <td>Lenovo</td>\n",
       "      <td>Intel Core i7-8550U</td>\n",
       "      <td>8 GB</td>\n",
       "      <td>2666 MHz</td>\n",
       "      <td>256</td>\n",
       "      <td>0.0</td>\n",
       "      <td>On board</td>\n",
       "      <td>0</td>\n",
       "      <td>14.0</td>\n",
       "      <td>1920 x 1080</td>\n",
       "      <td>1.54</td>\n",
       "      <td>20490000.0</td>\n",
       "    </tr>\n",
       "    <tr>\n",
       "      <th>160</th>\n",
       "      <td>Dell</td>\n",
       "      <td>Intel Core i5-1135G7</td>\n",
       "      <td>8 GB</td>\n",
       "      <td>4267 MHz</td>\n",
       "      <td>256</td>\n",
       "      <td>0.0</td>\n",
       "      <td>On board</td>\n",
       "      <td>0</td>\n",
       "      <td>13.4</td>\n",
       "      <td>1920 x 1200</td>\n",
       "      <td>1.32</td>\n",
       "      <td>41490000.0</td>\n",
       "    </tr>\n",
       "    <tr>\n",
       "      <th>161</th>\n",
       "      <td>Lenovo</td>\n",
       "      <td>Intel Core i3-8145U</td>\n",
       "      <td>8 GB</td>\n",
       "      <td>2133 MHz</td>\n",
       "      <td>256</td>\n",
       "      <td>0.0</td>\n",
       "      <td>On board</td>\n",
       "      <td>0</td>\n",
       "      <td>14.0</td>\n",
       "      <td>1920 x 1080</td>\n",
       "      <td>1.60</td>\n",
       "      <td>15290000.0</td>\n",
       "    </tr>\n",
       "    <tr>\n",
       "      <th>162</th>\n",
       "      <td>HP</td>\n",
       "      <td>Intel Core i3-8145U</td>\n",
       "      <td>4 GB</td>\n",
       "      <td>2666 MHz</td>\n",
       "      <td>0</td>\n",
       "      <td>1000.0</td>\n",
       "      <td>On board</td>\n",
       "      <td>0</td>\n",
       "      <td>15.6</td>\n",
       "      <td>1920 x 1080</td>\n",
       "      <td>1.75</td>\n",
       "      <td>13090000.0</td>\n",
       "    </tr>\n",
       "    <tr>\n",
       "      <th>163</th>\n",
       "      <td>Dell</td>\n",
       "      <td>Intel Core i5-1135G7</td>\n",
       "      <td>8 GB</td>\n",
       "      <td>4267 MHz</td>\n",
       "      <td>512</td>\n",
       "      <td>0.0</td>\n",
       "      <td>On board</td>\n",
       "      <td>0</td>\n",
       "      <td>13.3</td>\n",
       "      <td>1920 x 1080</td>\n",
       "      <td>1.37</td>\n",
       "      <td>27390000.0</td>\n",
       "    </tr>\n",
       "  </tbody>\n",
       "</table>\n",
       "<p>152 rows × 12 columns</p>\n",
       "</div>"
      ],
      "text/plain": [
       "    Company                   CPU   RAM        Bus  SSD     HDD  GPU_name  \\\n",
       "STT                                                                         \n",
       "0    Lenovo  Intel Core i3-1005G1  4 GB   2666 MHz  512     0.0  On board   \n",
       "1    Lenovo  Intel Core i5-1035G1  8 GB   2666 MHz  512     0.0  On board   \n",
       "2    Lenovo  Intel Core i5-1135G7  8 GB   3200 MHz  512     0.0  On board   \n",
       "3      Acer   Intel Core i3-8130U  4 GB   2400 MHz  256     0.0  On board   \n",
       "4      Acer  Intel Core i5-1035G1  8 GB   2400 MHz  512     0.0  On board   \n",
       "..      ...                   ...   ...        ...  ...     ...       ...   \n",
       "159  Lenovo   Intel Core i7-8550U  8 GB   2666 MHz  256     0.0  On board   \n",
       "160    Dell  Intel Core i5-1135G7  8 GB   4267 MHz  256     0.0  On board   \n",
       "161  Lenovo   Intel Core i3-8145U  8 GB   2133 MHz  256     0.0  On board   \n",
       "162      HP   Intel Core i3-8145U  4 GB   2666 MHz    0  1000.0  On board   \n",
       "163    Dell  Intel Core i5-1135G7  8 GB   4267 MHz  512     0.0  On board   \n",
       "\n",
       "     GPU_ram  Screen Độ phân giải  Weight       Price  \n",
       "STT                                                    \n",
       "0          0    15.6  1920 x 1080    1.80  11690000.0  \n",
       "1          0    14.0  1920 x 1080    1.60  14390000.0  \n",
       "2          0    15.6  1920 x 1080    1.66  17490000.0  \n",
       "3          0    15.6  1920 x 1080    1.70  10790000.0  \n",
       "4          0    15.6  1920 x 1080    1.70  15190000.0  \n",
       "..       ...     ...          ...     ...         ...  \n",
       "159        0    14.0  1920 x 1080    1.54  20490000.0  \n",
       "160        0    13.4  1920 x 1200    1.32  41490000.0  \n",
       "161        0    14.0  1920 x 1080    1.60  15290000.0  \n",
       "162        0    15.6  1920 x 1080    1.75  13090000.0  \n",
       "163        0    13.3  1920 x 1080    1.37  27390000.0  \n",
       "\n",
       "[152 rows x 12 columns]"
      ]
     },
     "execution_count": 3,
     "metadata": {},
     "output_type": "execute_result"
    }
   ],
   "source": [
    "df_2 = pd.read_csv('CrawlData/clean_tgdd.csv', index_col='STT')\n",
    "df_2"
   ]
  },
  {
   "cell_type": "code",
   "execution_count": 4,
   "metadata": {},
   "outputs": [
    {
     "data": {
      "text/html": [
       "<div>\n",
       "<style scoped>\n",
       "    .dataframe tbody tr th:only-of-type {\n",
       "        vertical-align: middle;\n",
       "    }\n",
       "\n",
       "    .dataframe tbody tr th {\n",
       "        vertical-align: top;\n",
       "    }\n",
       "\n",
       "    .dataframe thead th {\n",
       "        text-align: right;\n",
       "    }\n",
       "</style>\n",
       "<table border=\"1\" class=\"dataframe\">\n",
       "  <thead>\n",
       "    <tr style=\"text-align: right;\">\n",
       "      <th></th>\n",
       "      <th>Company</th>\n",
       "      <th>CPU</th>\n",
       "      <th>RAM</th>\n",
       "      <th>Bus</th>\n",
       "      <th>SSD</th>\n",
       "      <th>HDD</th>\n",
       "      <th>GPU_name</th>\n",
       "      <th>GPU_ram</th>\n",
       "      <th>Screen</th>\n",
       "      <th>Độ phân giải</th>\n",
       "      <th>Weight</th>\n",
       "      <th>Price</th>\n",
       "    </tr>\n",
       "  </thead>\n",
       "  <tbody>\n",
       "    <tr>\n",
       "      <th>0</th>\n",
       "      <td>Asus</td>\n",
       "      <td>Intel Core i5-10300H</td>\n",
       "      <td>8 GB</td>\n",
       "      <td>2933 MHz</td>\n",
       "      <td>512.0</td>\n",
       "      <td>0.0</td>\n",
       "      <td>NVIDIA GeForce GTX 1650Ti</td>\n",
       "      <td>4</td>\n",
       "      <td>15.6</td>\n",
       "      <td>1920 x 1080</td>\n",
       "      <td>2.30</td>\n",
       "      <td>22290000.0</td>\n",
       "    </tr>\n",
       "    <tr>\n",
       "      <th>1</th>\n",
       "      <td>Asus</td>\n",
       "      <td>AMD Ryzen 7-3750H</td>\n",
       "      <td>8 GB</td>\n",
       "      <td>2400 MHz</td>\n",
       "      <td>512.0</td>\n",
       "      <td>0.0</td>\n",
       "      <td>NVIDIA GeForce GTX 1650</td>\n",
       "      <td>4</td>\n",
       "      <td>15.6</td>\n",
       "      <td>1920 x 1080</td>\n",
       "      <td>2.20</td>\n",
       "      <td>19090000.0</td>\n",
       "    </tr>\n",
       "    <tr>\n",
       "      <th>2</th>\n",
       "      <td>Acer</td>\n",
       "      <td>AMD Ryzen 7-3750H</td>\n",
       "      <td>8 GB</td>\n",
       "      <td>2666 MHz</td>\n",
       "      <td>512.0</td>\n",
       "      <td>0.0</td>\n",
       "      <td>NVIDIA GeForce GTX 1650Ti</td>\n",
       "      <td>4</td>\n",
       "      <td>15.6</td>\n",
       "      <td>1920 x 1080</td>\n",
       "      <td>2.10</td>\n",
       "      <td>19790000.0</td>\n",
       "    </tr>\n",
       "    <tr>\n",
       "      <th>3</th>\n",
       "      <td>MSI</td>\n",
       "      <td>AMD Ryzen 5-4600H</td>\n",
       "      <td>8 GB</td>\n",
       "      <td>3200 MHz</td>\n",
       "      <td>512.0</td>\n",
       "      <td>0.0</td>\n",
       "      <td>AMD Radeon RX 5300M</td>\n",
       "      <td>3</td>\n",
       "      <td>15.6</td>\n",
       "      <td>1920 x 1080</td>\n",
       "      <td>1.96</td>\n",
       "      <td>19490000.0</td>\n",
       "    </tr>\n",
       "    <tr>\n",
       "      <th>4</th>\n",
       "      <td>Acer</td>\n",
       "      <td>AMD Ryzen 5-3550H</td>\n",
       "      <td>8 GB</td>\n",
       "      <td>2666 MHz</td>\n",
       "      <td>512.0</td>\n",
       "      <td>0.0</td>\n",
       "      <td>NVIDIA GeForce GTX 1650Ti</td>\n",
       "      <td>4</td>\n",
       "      <td>15.6</td>\n",
       "      <td>1920 x 1080</td>\n",
       "      <td>2.10</td>\n",
       "      <td>18790000.0</td>\n",
       "    </tr>\n",
       "  </tbody>\n",
       "</table>\n",
       "</div>"
      ],
      "text/plain": [
       "  Company                   CPU   RAM       Bus    SSD  HDD  \\\n",
       "0    Asus  Intel Core i5-10300H  8 GB  2933 MHz  512.0  0.0   \n",
       "1    Asus     AMD Ryzen 7-3750H  8 GB  2400 MHz  512.0  0.0   \n",
       "2    Acer     AMD Ryzen 7-3750H  8 GB  2666 MHz  512.0  0.0   \n",
       "3     MSI     AMD Ryzen 5-4600H  8 GB  3200 MHz  512.0  0.0   \n",
       "4    Acer     AMD Ryzen 5-3550H  8 GB  2666 MHz  512.0  0.0   \n",
       "\n",
       "                    GPU_name  GPU_ram  Screen  Độ phân giải  Weight  \\\n",
       "0  NVIDIA GeForce GTX 1650Ti        4    15.6   1920 x 1080    2.30   \n",
       "1    NVIDIA GeForce GTX 1650        4    15.6   1920 x 1080    2.20   \n",
       "2  NVIDIA GeForce GTX 1650Ti        4    15.6   1920 x 1080    2.10   \n",
       "3        AMD Radeon RX 5300M        3    15.6   1920 x 1080    1.96   \n",
       "4  NVIDIA GeForce GTX 1650Ti        4    15.6   1920 x 1080    2.10   \n",
       "\n",
       "        Price  \n",
       "0  22290000.0  \n",
       "1  19090000.0  \n",
       "2  19790000.0  \n",
       "3  19490000.0  \n",
       "4  18790000.0  "
      ]
     },
     "execution_count": 4,
     "metadata": {},
     "output_type": "execute_result"
    }
   ],
   "source": [
    "df = pd.concat([df_1, df_2])\n",
    "df.head()"
   ]
  },
  {
   "cell_type": "code",
   "execution_count": 5,
   "metadata": {},
   "outputs": [
    {
     "name": "stdout",
     "output_type": "stream",
     "text": [
      "<class 'pandas.core.frame.DataFrame'>\n",
      "Int64Index: 362 entries, 0 to 163\n",
      "Data columns (total 12 columns):\n",
      " #   Column        Non-Null Count  Dtype  \n",
      "---  ------        --------------  -----  \n",
      " 0   Company       362 non-null    object \n",
      " 1   CPU           362 non-null    object \n",
      " 2   RAM           362 non-null    object \n",
      " 3   Bus           362 non-null    object \n",
      " 4   SSD           362 non-null    float64\n",
      " 5   HDD           362 non-null    float64\n",
      " 6   GPU_name      362 non-null    object \n",
      " 7   GPU_ram       362 non-null    int64  \n",
      " 8   Screen        362 non-null    float64\n",
      " 9   Độ phân giải  362 non-null    object \n",
      " 10  Weight        362 non-null    float64\n",
      " 11  Price         362 non-null    float64\n",
      "dtypes: float64(5), int64(1), object(6)\n",
      "memory usage: 36.8+ KB\n"
     ]
    }
   ],
   "source": [
    "df.info()"
   ]
  },
  {
   "cell_type": "code",
   "execution_count": 6,
   "metadata": {},
   "outputs": [
    {
     "data": {
      "text/html": [
       "<div>\n",
       "<style scoped>\n",
       "    .dataframe tbody tr th:only-of-type {\n",
       "        vertical-align: middle;\n",
       "    }\n",
       "\n",
       "    .dataframe tbody tr th {\n",
       "        vertical-align: top;\n",
       "    }\n",
       "\n",
       "    .dataframe thead th {\n",
       "        text-align: right;\n",
       "    }\n",
       "</style>\n",
       "<table border=\"1\" class=\"dataframe\">\n",
       "  <thead>\n",
       "    <tr style=\"text-align: right;\">\n",
       "      <th></th>\n",
       "      <th>SSD</th>\n",
       "      <th>HDD</th>\n",
       "      <th>GPU_ram</th>\n",
       "      <th>Screen</th>\n",
       "      <th>Weight</th>\n",
       "      <th>Price</th>\n",
       "    </tr>\n",
       "  </thead>\n",
       "  <tbody>\n",
       "    <tr>\n",
       "      <th>count</th>\n",
       "      <td>362.000000</td>\n",
       "      <td>362.000000</td>\n",
       "      <td>362.000000</td>\n",
       "      <td>362.000000</td>\n",
       "      <td>362.000000</td>\n",
       "      <td>3.620000e+02</td>\n",
       "    </tr>\n",
       "    <tr>\n",
       "      <th>mean</th>\n",
       "      <td>405.458564</td>\n",
       "      <td>96.690608</td>\n",
       "      <td>1.154696</td>\n",
       "      <td>14.795856</td>\n",
       "      <td>6.900541</td>\n",
       "      <td>1.941966e+07</td>\n",
       "    </tr>\n",
       "    <tr>\n",
       "      <th>std</th>\n",
       "      <td>188.022733</td>\n",
       "      <td>293.586285</td>\n",
       "      <td>1.729119</td>\n",
       "      <td>0.916914</td>\n",
       "      <td>69.646259</td>\n",
       "      <td>8.364037e+06</td>\n",
       "    </tr>\n",
       "    <tr>\n",
       "      <th>min</th>\n",
       "      <td>0.000000</td>\n",
       "      <td>0.000000</td>\n",
       "      <td>0.000000</td>\n",
       "      <td>13.000000</td>\n",
       "      <td>0.369500</td>\n",
       "      <td>6.999000e+06</td>\n",
       "    </tr>\n",
       "    <tr>\n",
       "      <th>25%</th>\n",
       "      <td>256.000000</td>\n",
       "      <td>0.000000</td>\n",
       "      <td>0.000000</td>\n",
       "      <td>14.000000</td>\n",
       "      <td>1.500000</td>\n",
       "      <td>1.341500e+07</td>\n",
       "    </tr>\n",
       "    <tr>\n",
       "      <th>50%</th>\n",
       "      <td>512.000000</td>\n",
       "      <td>0.000000</td>\n",
       "      <td>0.000000</td>\n",
       "      <td>15.600000</td>\n",
       "      <td>1.700000</td>\n",
       "      <td>1.789000e+07</td>\n",
       "    </tr>\n",
       "    <tr>\n",
       "      <th>75%</th>\n",
       "      <td>512.000000</td>\n",
       "      <td>0.000000</td>\n",
       "      <td>2.000000</td>\n",
       "      <td>15.600000</td>\n",
       "      <td>1.910000</td>\n",
       "      <td>2.249000e+07</td>\n",
       "    </tr>\n",
       "    <tr>\n",
       "      <th>max</th>\n",
       "      <td>1000.000000</td>\n",
       "      <td>1000.000000</td>\n",
       "      <td>6.000000</td>\n",
       "      <td>17.000000</td>\n",
       "      <td>940.000000</td>\n",
       "      <td>6.199000e+07</td>\n",
       "    </tr>\n",
       "  </tbody>\n",
       "</table>\n",
       "</div>"
      ],
      "text/plain": [
       "               SSD          HDD     GPU_ram      Screen      Weight  \\\n",
       "count   362.000000   362.000000  362.000000  362.000000  362.000000   \n",
       "mean    405.458564    96.690608    1.154696   14.795856    6.900541   \n",
       "std     188.022733   293.586285    1.729119    0.916914   69.646259   \n",
       "min       0.000000     0.000000    0.000000   13.000000    0.369500   \n",
       "25%     256.000000     0.000000    0.000000   14.000000    1.500000   \n",
       "50%     512.000000     0.000000    0.000000   15.600000    1.700000   \n",
       "75%     512.000000     0.000000    2.000000   15.600000    1.910000   \n",
       "max    1000.000000  1000.000000    6.000000   17.000000  940.000000   \n",
       "\n",
       "              Price  \n",
       "count  3.620000e+02  \n",
       "mean   1.941966e+07  \n",
       "std    8.364037e+06  \n",
       "min    6.999000e+06  \n",
       "25%    1.341500e+07  \n",
       "50%    1.789000e+07  \n",
       "75%    2.249000e+07  \n",
       "max    6.199000e+07  "
      ]
     },
     "execution_count": 6,
     "metadata": {},
     "output_type": "execute_result"
    }
   ],
   "source": [
    "df.describe()"
   ]
  },
  {
   "cell_type": "code",
   "execution_count": 7,
   "metadata": {},
   "outputs": [
    {
     "data": {
      "text/plain": [
       "(362, 11)"
      ]
     },
     "execution_count": 7,
     "metadata": {},
     "output_type": "execute_result"
    }
   ],
   "source": [
    "check_df = df.drop(columns='Price')\n",
    "check_df.shape"
   ]
  },
  {
   "cell_type": "code",
   "execution_count": 8,
   "metadata": {},
   "outputs": [
    {
     "data": {
      "text/plain": [
       "array(['Intel Core i5-10300H', 'AMD Ryzen 7-3750H', 'AMD Ryzen 5-4600H',\n",
       "       'AMD Ryzen 5-3550H', 'Intel Core i5-9300H', 'Intel Core i7-10750H',\n",
       "       'Intel Core i7-9750H', 'AMD Ryzen 7-4800H', 'Intel Core i3-8145U',\n",
       "       'Intel Core i3-1005G1', 'AMD Ryzen 3-3250U', 'Intel Core i3-8130U',\n",
       "       'Intel Core i7-9th-gen', 'Intel Core i5-8th-gen',\n",
       "       'Intel Core i7-10510U', 'Intel Core i5-10th-gen',\n",
       "       'Intel Core i7-1065G7', 'Intel Core i7-1165G7',\n",
       "       'Intel Core i5-1135G7', 'Intel Core i3-10th-gen',\n",
       "       'Intel Core i5-10210U', 'AMD Ryzen 7-3700U',\n",
       "       'Intel Core i7-10870H', 'Intel Core i7-8565U', 'AMD Ryzen 5-4500U',\n",
       "       'Intel Core i5-1035G4', 'Intel Core i5-1035G1',\n",
       "       'AMD Ryzen 7-4700U', 'Intel Core i5-5th-gen',\n",
       "       'Intel Core i5-8265U', 'AMD Ryzen 7-4700H', 'AMD Ryzen 5-3500U',\n",
       "       'Intel Core i3-10110U', 'AMD Ryzen 5-2500U',\n",
       "       'Intel Core i3-1115G4', 'AMD Ryzen 3-4300U', 'AMD Ryzen 3-3200U',\n",
       "       'Intel Pentium N5000', 'Intel Pentium N5030',\n",
       "       'Intel Celeron N4020', 'Intel Core i7-1185G7',\n",
       "       'Intel Pentium N5030 ', 'Intel Pentium N5000 ',\n",
       "       'Intel Core i5-8250U', 'Intel Core i3-', 'Intel Core i7-8550U',\n",
       "       'Intel Core i5-1035G7'], dtype=object)"
      ]
     },
     "execution_count": 8,
     "metadata": {},
     "output_type": "execute_result"
    }
   ],
   "source": [
    "check_df['CPU'].unique()"
   ]
  },
  {
   "cell_type": "code",
   "execution_count": 9,
   "metadata": {},
   "outputs": [
    {
     "data": {
      "text/plain": [
       "array(['NVIDIA GeForce GTX 1650Ti', 'NVIDIA GeForce GTX 1650',\n",
       "       'AMD Radeon RX 5300M', 'NVIDIA GeForce GTX 1650 Max-Q', 'On board',\n",
       "       'AMD Radeon Pro 5300M', 'NVIDIA GeForce RTX 2060',\n",
       "       'NVIDIA GeForce GTX 1660Ti', 'NVIDIA GeForce MX250',\n",
       "       'NVIDIA GeForce MX330', 'NVIDIA GeForce MX350',\n",
       "       'NVIDIA GeForce MX230', 'NVIDIA GeForce MX130', 'AMD Radeon 630',\n",
       "       'AMD Radeon 610', 'AMD Radeon 520', 'AMD Radeon 625',\n",
       "       'NVIDIA GeForce MX110', 'NVIDIA GeForce GTX 1660Ti Max-Q',\n",
       "       'NVIDIA Quadro P520', 'AMD Radeon 610R5', 'NVIDIA Geforce MX130',\n",
       "       'NVIDIA® GeForce® MX350', 'NVIDIA Geforce MX150'], dtype=object)"
      ]
     },
     "execution_count": 9,
     "metadata": {},
     "output_type": "execute_result"
    }
   ],
   "source": [
    "check_df['GPU_name'].unique()"
   ]
  },
  {
   "cell_type": "markdown",
   "metadata": {},
   "source": [
    "#### Làm sạch dữ liệu các cột categorical không có thứ tự này"
   ]
  },
  {
   "cell_type": "code",
   "execution_count": 10,
   "metadata": {},
   "outputs": [],
   "source": [
    "def removecharacter(s, c):\n",
    "    return s.replace(c,'', len(s))\n",
    "\n",
    "removecharacter('NVIDIA® GeForce® MX350', '®')\n",
    "df['GPU_name'] = df['GPU_name'].apply(lambda x: removecharacter(x,'®') if '®' in x else x)\n",
    "df['CPU'] = df['CPU'].replace('Intel Core i3-', 'Intel Core i3')"
   ]
  },
  {
   "cell_type": "code",
   "execution_count": 11,
   "metadata": {},
   "outputs": [
    {
     "data": {
      "text/plain": [
       "40"
      ]
     },
     "execution_count": 11,
     "metadata": {},
     "output_type": "execute_result"
    }
   ],
   "source": [
    "check_df.duplicated(keep='first').sum()"
   ]
  },
  {
   "cell_type": "markdown",
   "metadata": {},
   "source": [
    "#### Xóa các cột trùng nhau"
   ]
  },
  {
   "cell_type": "code",
   "execution_count": 12,
   "metadata": {},
   "outputs": [
    {
     "data": {
      "text/plain": [
       "(322, 12)"
      ]
     },
     "execution_count": 12,
     "metadata": {},
     "output_type": "execute_result"
    }
   ],
   "source": [
    "dup_df = check_df.duplicated(keep='first')\n",
    "# \n",
    "df = df.iloc[dup_df[dup_df == False].index]\n",
    "df.shape"
   ]
  },
  {
   "cell_type": "markdown",
   "metadata": {},
   "source": [
    "##### Thống kê số lượng hãng."
   ]
  },
  {
   "cell_type": "code",
   "execution_count": 13,
   "metadata": {},
   "outputs": [
    {
     "data": {
      "text/plain": [
       "<matplotlib.axes._subplots.AxesSubplot at 0x7f4dbca2c6a0>"
      ]
     },
     "execution_count": 13,
     "metadata": {},
     "output_type": "execute_result"
    },
    {
     "data": {
      "image/png": "[encoded data removed]",
      "text/plain": [
       "<Figure size 1440x432 with 1 Axes>"
      ]
     },
     "metadata": {
      "needs_background": "light"
     },
     "output_type": "display_data"
    }
   ],
   "source": [
    "df['Company'].value_counts()\n",
    "fig_dims = (20, 6)\n",
    "fig, ax = plt.subplots(figsize=fig_dims)\n",
    "sns.countplot(x=\"Company\", data=df, ax=ax)"
   ]
  },
  {
   "cell_type": "markdown",
   "metadata": {},
   "source": [
    "Xem tương quan giữa các thuộc tính."
   ]
  },
  {
   "cell_type": "code",
   "execution_count": 14,
   "metadata": {},
   "outputs": [
    {
     "data": {
      "image/png": "[encoded data removed]",
      "text/plain": [
       "<Figure size 864x576 with 2 Axes>"
      ]
     },
     "metadata": {
      "needs_background": "light"
     },
     "output_type": "display_data"
    }
   ],
   "source": [
    "def correlation_heatmap(train):\n",
    "    correlations = train.corr()\n",
    "    \n",
    "    fig, ax = plt.subplots(figsize=(12,8))\n",
    "    sns.heatmap(correlations, vmax=1.0, center=0, fmt='.2f', square=True, linewidths=.5, annot=True, cbar_kws={\"shrink\":.70})\n",
    "    plt.show()\n",
    "    \n",
    "correlation_heatmap(df)"
   ]
  },
  {
   "cell_type": "markdown",
   "metadata": {},
   "source": [
    "### Giờ ta bắt đầu xây dựng mô hình dự đoán"
   ]
  },
  {
   "cell_type": "code",
   "execution_count": 15,
   "metadata": {},
   "outputs": [],
   "source": [
    "y = df['Price']\n",
    "X_df = df.drop(columns='Price')\n",
    "X_train, X_test, y_train, y_test = train_test_split(X_df, y, test_size=0.25, random_state=42,shuffle = True)"
   ]
  },
  {
   "cell_type": "code",
   "execution_count": 16,
   "metadata": {},
   "outputs": [],
   "source": [
    "def get_s(a):\n",
    "    a = a.split('x')\n",
    "    return int(a[0].strip())*int(a[1].strip())\n",
    "\n",
    "def preprocess_df(dataframe):\n",
    "    new_df = dataframe.copy(deep=False)\n",
    "    new_df['Bus'] = new_df['Bus'].apply(lambda x: int(x[0:-3]))\n",
    "    new_df['RAM'] = new_df['RAM'].apply(lambda x: int(x[0:-3]))\n",
    "    new_df['Độ phân giải'] = new_df['Độ phân giải'].apply(get_s)\n",
    "    num_cols =['Bus', 'SSD', 'HDD', 'GPU_ram', 'Screen', 'Độ phân giải', 'Weight']\n",
    "    new_df[num_cols]= new_df[num_cols].apply(pd.to_numeric)\n",
    "    return new_df\n",
    "\n",
    "class DataframeFunctionTransformer(BaseEstimator, TransformerMixin):\n",
    "    def __init__(self, func):\n",
    "        self.func = func\n",
    "\n",
    "    def transform(self, input_df, **transform_params):\n",
    "        return self.func(input_df)\n",
    "\n",
    "    def fit(self, X, y=None, **fit_params):\n",
    "        return self"
   ]
  },
  {
   "cell_type": "code",
   "execution_count": 17,
   "metadata": {},
   "outputs": [
    {
     "data": {
      "text/plain": [
       "0.6396858627088934"
      ]
     },
     "execution_count": 17,
     "metadata": {},
     "output_type": "execute_result"
    }
   ],
   "source": [
    "cate_cols = ['Company', 'CPU', 'GPU_name']\n",
    "\n",
    "\n",
    "preprocessor =  make_column_transformer((OneHotEncoder(handle_unknown='ignore'), cate_cols),\n",
    "                                       )\n",
    "pipeline = make_pipeline(\n",
    "    DataframeFunctionTransformer(preprocess_df), preprocessor, StandardScaler(with_mean=False), \n",
    "    LinearRegression()\n",
    ")\n",
    "pipeline.fit(X_train, y_train)\n",
    "pipeline.score(X_test, y_test)\n",
    "# apply the pipeline to the input dataframe"
   ]
  },
  {
   "cell_type": "code",
   "execution_count": 18,
   "metadata": {},
   "outputs": [
    {
     "name": "stderr",
     "output_type": "stream",
     "text": [
      "/home/sheepb/.local/lib/python3.8/site-packages/sklearn/linear_model/_logistic.py:762: ConvergenceWarning: lbfgs failed to converge (status=1):\n",
      "STOP: TOTAL NO. of ITERATIONS REACHED LIMIT.\n",
      "\n",
      "Increase the number of iterations (max_iter) or scale the data as shown in:\n",
      "    https://scikit-learn.org/stable/modules/preprocessing.html\n",
      "Please also refer to the documentation for alternative solver options:\n",
      "    https://scikit-learn.org/stable/modules/linear_model.html#logistic-regression\n",
      "  n_iter_i = _check_optimize_result(\n"
     ]
    },
    {
     "data": {
      "text/plain": [
       "0.49382716049382713"
      ]
     },
     "execution_count": 18,
     "metadata": {},
     "output_type": "execute_result"
    }
   ],
   "source": [
    "\n",
    "pipeline = make_pipeline(\n",
    "    DataframeFunctionTransformer(preprocess_df), preprocessor, StandardScaler(with_mean=False), \n",
    "    LogisticRegression(max_iter=10)\n",
    ")\n",
    "pipeline.fit(X_train, y_train)\n",
    "pipeline.score(X_test, y_test)"
   ]
  },
  {
   "cell_type": "code",
   "execution_count": 19,
   "metadata": {},
   "outputs": [
    {
     "data": {
      "text/plain": [
       "0.7051223480234519"
      ]
     },
     "execution_count": 19,
     "metadata": {},
     "output_type": "execute_result"
    }
   ],
   "source": [
    "\n",
    "pipeline = make_pipeline(\n",
    "    DataframeFunctionTransformer(preprocess_df), preprocessor, StandardScaler(with_mean=False), \n",
    "    RandomForestRegressor()\n",
    ")\n",
    "pipeline.fit(X_train, y_train)\n",
    "pipeline.score(X_test, y_test)"
   ]
  },
  {
   "cell_type": "code",
   "execution_count": 20,
   "metadata": {},
   "outputs": [
    {
     "data": {
      "text/plain": [
       "0.6310216129152288"
      ]
     },
     "execution_count": 20,
     "metadata": {},
     "output_type": "execute_result"
    }
   ],
   "source": [
    "pipeline = make_pipeline(\n",
    "    DataframeFunctionTransformer(preprocess_df), preprocessor, StandardScaler(with_mean=False), \n",
    "    SGDRegressor()\n",
    ")\n",
    "pipeline.fit(X_train, y_train)\n",
    "pipeline.score(X_test, y_test)"
   ]
  },
  {
   "cell_type": "code",
   "execution_count": 21,
   "metadata": {},
   "outputs": [
    {
     "data": {
      "text/plain": [
       "0.5810010168042647"
      ]
     },
     "execution_count": 21,
     "metadata": {},
     "output_type": "execute_result"
    }
   ],
   "source": [
    "pipeline = make_pipeline(\n",
    "    DataframeFunctionTransformer(preprocess_df), preprocessor, StandardScaler(with_mean=False), \n",
    "    KNeighborsRegressor()\n",
    ")\n",
    "pipeline.fit(X_train, y_train)\n",
    "pipeline.score(X_test, y_test)"
   ]
  },
  {
   "cell_type": "code",
   "execution_count": 22,
   "metadata": {},
   "outputs": [
    {
     "data": {
      "text/plain": [
       "0.7562646094991364"
      ]
     },
     "execution_count": 22,
     "metadata": {},
     "output_type": "execute_result"
    }
   ],
   "source": [
    "pipeline = make_pipeline(\n",
    "    DataframeFunctionTransformer(preprocess_df), preprocessor, StandardScaler(with_mean=False), \n",
    "    DecisionTreeRegressor()\n",
    ")\n",
    "pipeline.fit(X_train, y_train)\n",
    "pipeline.score(X_test, y_test)"
   ]
  },
  {
   "cell_type": "markdown",
   "metadata": {},
   "source": [
    "####  Ta thấy mô hình tốt nhất là DecisionTreeRegressor, bây giờ ta mô hình hóa toàn bộ dữ liệu với DecisionTreeRegressor"
   ]
  },
  {
   "cell_type": "code",
   "execution_count": 26,
   "metadata": {},
   "outputs": [
    {
     "data": {
      "text/plain": [
       "'Score:0.9044701834953403'"
      ]
     },
     "execution_count": 26,
     "metadata": {},
     "output_type": "execute_result"
    }
   ],
   "source": [
    "pipeline = make_pipeline(\n",
    "    DataframeFunctionTransformer(preprocess_df), preprocessor, StandardScaler(with_mean=False), \n",
    "    DecisionTreeRegressor()\n",
    ")\n",
    "pipeline.fit(X_df, y)\n",
    "pred_y = pipeline.predict(X_df).tolist()\n",
    "'Score:' + str(pipeline.score(X_df, y))"
   ]
  },
  {
   "cell_type": "code",
   "execution_count": 28,
   "metadata": {},
   "outputs": [
    {
     "data": {
      "text/html": [
       "<div>\n",
       "<style scoped>\n",
       "    .dataframe tbody tr th:only-of-type {\n",
       "        vertical-align: middle;\n",
       "    }\n",
       "\n",
       "    .dataframe tbody tr th {\n",
       "        vertical-align: top;\n",
       "    }\n",
       "\n",
       "    .dataframe thead th {\n",
       "        text-align: right;\n",
       "    }\n",
       "</style>\n",
       "<table border=\"1\" class=\"dataframe\">\n",
       "  <thead>\n",
       "    <tr style=\"text-align: right;\">\n",
       "      <th></th>\n",
       "      <th>Actual</th>\n",
       "      <th>Predict</th>\n",
       "    </tr>\n",
       "  </thead>\n",
       "  <tbody>\n",
       "    <tr>\n",
       "      <th>0</th>\n",
       "      <td>22290000.0</td>\n",
       "      <td>22770000.0</td>\n",
       "    </tr>\n",
       "    <tr>\n",
       "      <th>1</th>\n",
       "      <td>19090000.0</td>\n",
       "      <td>19090000.0</td>\n",
       "    </tr>\n",
       "    <tr>\n",
       "      <th>2</th>\n",
       "      <td>19790000.0</td>\n",
       "      <td>19790000.0</td>\n",
       "    </tr>\n",
       "    <tr>\n",
       "      <th>3</th>\n",
       "      <td>19490000.0</td>\n",
       "      <td>19490000.0</td>\n",
       "    </tr>\n",
       "    <tr>\n",
       "      <th>4</th>\n",
       "      <td>18790000.0</td>\n",
       "      <td>18790000.0</td>\n",
       "    </tr>\n",
       "    <tr>\n",
       "      <th>...</th>\n",
       "      <td>...</td>\n",
       "      <td>...</td>\n",
       "    </tr>\n",
       "    <tr>\n",
       "      <th>317</th>\n",
       "      <td>11990000.0</td>\n",
       "      <td>11990000.0</td>\n",
       "    </tr>\n",
       "    <tr>\n",
       "      <th>318</th>\n",
       "      <td>11790000.0</td>\n",
       "      <td>11946250.0</td>\n",
       "    </tr>\n",
       "    <tr>\n",
       "      <th>319</th>\n",
       "      <td>11790000.0</td>\n",
       "      <td>12790000.0</td>\n",
       "    </tr>\n",
       "    <tr>\n",
       "      <th>320</th>\n",
       "      <td>11490000.0</td>\n",
       "      <td>11946250.0</td>\n",
       "    </tr>\n",
       "    <tr>\n",
       "      <th>321</th>\n",
       "      <td>11490000.0</td>\n",
       "      <td>12930000.0</td>\n",
       "    </tr>\n",
       "  </tbody>\n",
       "</table>\n",
       "<p>322 rows × 2 columns</p>\n",
       "</div>"
      ],
      "text/plain": [
       "         Actual     Predict\n",
       "0    22290000.0  22770000.0\n",
       "1    19090000.0  19090000.0\n",
       "2    19790000.0  19790000.0\n",
       "3    19490000.0  19490000.0\n",
       "4    18790000.0  18790000.0\n",
       "..          ...         ...\n",
       "317  11990000.0  11990000.0\n",
       "318  11790000.0  11946250.0\n",
       "319  11790000.0  12790000.0\n",
       "320  11490000.0  11946250.0\n",
       "321  11490000.0  12930000.0\n",
       "\n",
       "[322 rows x 2 columns]"
      ]
     },
     "execution_count": 28,
     "metadata": {},
     "output_type": "execute_result"
    }
   ],
   "source": [
    "pred_df = pd.DataFrame({'Actual':y.tolist(), 'Predict':pred_y})\n",
    "pred_df"
   ]
  },
  {
   "cell_type": "code",
   "execution_count": null,
   "metadata": {},
   "outputs": [],
   "source": []
  }
 ],
 "metadata": {
  "kernelspec": {
   "display_name": "Python 3",
   "language": "python",
   "name": "python3"
  },
  "language_info": {
   "codemirror_mode": {
    "name": "ipython",
    "version": 3
   },
   "file_extension": ".py",
   "mimetype": "text/x-python",
   "name": "python",
   "nbconvert_exporter": "python",
   "pygments_lexer": "ipython3",
   "version": "3.8.5"
  }
 },
 "nbformat": 4,
 "nbformat_minor": 4
}